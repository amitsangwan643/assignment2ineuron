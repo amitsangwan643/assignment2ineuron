{
 "cells": [
  {
   "cell_type": "code",
   "execution_count": 1,
   "metadata": {},
   "outputs": [
    {
     "name": "stdout",
     "output_type": "stream",
     "text": [
      "Enter the numbers : \n",
      "45\n",
      "14\n",
      "21\n",
      "10\n",
      "54\n",
      "The sum of numbers is:  144\n"
     ]
    }
   ],
   "source": [
    "#1 Write a Python Program to implement your own myreduce() function which works exactly like Python's built-in function reduce() \n",
    "\n",
    "def my_reduce():\n",
    "    print('Enter the numbers : ')\n",
    "    list=[int(input()),int(input()),int(input()),int(input()),int(input())]\n",
    "    sum=0\n",
    "    for item in range(0,len(list)):\n",
    "        sum=sum+list[item]\n",
    "        \n",
    "    print('The sum of numbers is: ',sum)\n",
    "        \n",
    "my_reduce()"
   ]
  },
  {
   "cell_type": "code",
   "execution_count": null,
   "metadata": {},
   "outputs": [],
   "source": []
  },
  {
   "cell_type": "code",
   "execution_count": 2,
   "metadata": {},
   "outputs": [
    {
     "name": "stdout",
     "output_type": "stream",
     "text": [
      "Enter integers to check if it is a multiple  of 5: \n",
      "25\n",
      "45\n",
      "12\n",
      "47\n",
      "55\n",
      "The integerss which are multiple of 5 are:  [25, 45, 55]\n"
     ]
    }
   ],
   "source": [
    "#2 Write a Python program to implement your own myfilter() function which works exactly like Python's built-in function filter() \n",
    "def my_filter():\n",
    "    print('Enter integers to check if it is a multiple  of 5: ')\n",
    "    list=[int(input()),int(input()),int(input()),int(input()),int(input())]\n",
    "    l=[]\n",
    "    for item in list:\n",
    "        if item%5==0:\n",
    "            l.append(item)\n",
    "    print('The integerss which are multiple of 5 are: ',l)\n",
    "    \n",
    "\n",
    "my_filter()    "
   ]
  },
  {
   "cell_type": "code",
   "execution_count": null,
   "metadata": {},
   "outputs": [],
   "source": []
  },
  {
   "cell_type": "code",
   "execution_count": 3,
   "metadata": {},
   "outputs": [
    {
     "name": "stdout",
     "output_type": "stream",
     "text": [
      "The first_list item are:  ['A', 'C', 'A', 'D', 'G', 'I', 'L', 'D']\n",
      "The second_list item are:  [['x', 'xx', 'xxx', 'xxxx'], ['y', 'yy', 'yyy', 'yyyy'], ['z', 'zz', 'zzz', 'zzzz']]\n",
      "The third_list item are:  [['x', 'y', 'z'], ['xx', 'yy', 'zz'], ['xxxx', 'yyyy', 'zzzz']]\n",
      "The fourth_list item are:  [[[2], [3], [4]], [[3], [4], [5]], [[4], [5], [6]]]\n",
      "The fifth_list item are:  [[2, 3, 4, 5], [3, 4, 5, 6], [4, 5, 6, 7], [5, 6, 7, 8]]\n",
      "The sixth_list item are:  [((1, 1), (2, 1), (3, 1), (1, 2), (2, 2), (3, 2), (1, 3), (2, 3), (3, 3))]\n"
     ]
    }
   ],
   "source": [
    "#3 Program to implement list comprehension\n",
    "\n",
    "#1 ['A', 'C', 'A', 'D', 'G', 'I', ’L’, ‘ D’]\n",
    "first_list=['A','C','A','D','G','I','L','D']\n",
    "list=[x for x in first_list]\n",
    "print('The first_list item are: ',list)\n",
    "\n",
    "#2 ['x', 'xx', 'xxx', 'xxxx', 'y', 'yy', 'yyy', 'yyyy', 'z', 'zz', 'zzz', 'zzzz']\n",
    "second_list=['x','y','z']\n",
    "list2=[[a,a*2,a*3,a*4] for a in second_list ]\n",
    "print('The second_list item are: ',list2)\n",
    "\n",
    "#3 ['x', 'y', 'z', 'xx', 'yy', 'zz', 'xx', 'yy', 'zz', 'xxxx', 'yyyy', 'zzzz']\n",
    "third_list=['x','y','z']\n",
    "list33=[a for a in third_list]\n",
    "list44=[a*2 for a in third_list]\n",
    "list55=[a*4 for a in third_list]\n",
    "list66=[list33,list44,list55]\n",
    "print('The third_list item are: ',list66)\n",
    "\n",
    "#4 [[2], [3], [4], [3], [4], [5], [4], [5], [6]]\n",
    "fourth_list=[2,3,4]\n",
    "list4=[[[a],[a+1],[a+2]] for a in fourth_list]\n",
    "#listmmn=[[a+1] for a in listm]\n",
    "print('The fourth_list item are: ',list4)\n",
    "       \n",
    "#5 [[2, 3, 4, 5], [3, 4, 5, 6], [4, 5, 6, 7], [5, 6, 7, 8]]\n",
    "fifth_list=[2,3,4,5]\n",
    "list5=[[a,a+1,a+2,a+3] for a in fifth_list]\n",
    "print('The fifth_list item are: ',list5)\n",
    "\n",
    "#6 [(1, 1), (2, 1), (3, 1), (1, 2), (2, 2), (3, 2), (1, 3), (2, 3), (3, 3)]\n",
    "sixth_list=[(1,1)]\n",
    "list6=[(((i[0]),i[1]),((i[0])+1,i[1]),((i[0])+2,i[1]),(i[0],i[1]+1),(i[0]+1,i[1]+1),(i[0]+2,i[1]+1),(i[0],i[1]+2),(i[0]+1,i[1]+2),(i[0]+2,i[1]+2)) for i in sixth_list]\n",
    "print('The sixth_list item are: ',list6)"
   ]
  },
  {
   "cell_type": "code",
   "execution_count": null,
   "metadata": {},
   "outputs": [],
   "source": []
  },
  {
   "cell_type": "code",
   "execution_count": 4,
   "metadata": {},
   "outputs": [
    {
     "name": "stdout",
     "output_type": "stream",
     "text": [
      "Enter 4 words which user wants to compare: \n",
      "Python\n",
      "Java\n",
      "C++\n",
      "R\n",
      "The LongestWord is:  Python\n"
     ]
    }
   ],
   "source": [
    "#4 Implement a function longestWord() that takes a list of words and returns the longest one.\n",
    "def LongestWord():\n",
    "    print('Enter 4 words which user wants to compare: ')\n",
    "    list=[input(),input(),input(),input()]\n",
    "    if len(list[0])>len(list[1]) and len(list[0])>len(list[2]) and len(list[0])>len(list[3]):\n",
    "        return list[0]\n",
    "    elif len(list[1])>len(list[2]) and len(list[1])>len(list[3]):\n",
    "        return list[1]\n",
    "    elif len(list[2])>len(list[3]):\n",
    "        return list[2]\n",
    "    else:\n",
    "        return list[3]\n",
    "print('The LongestWord is: ',LongestWord()  )  \n",
    "    "
   ]
  },
  {
   "cell_type": "code",
   "execution_count": null,
   "metadata": {},
   "outputs": [],
   "source": []
  },
  {
   "cell_type": "code",
   "execution_count": 5,
   "metadata": {},
   "outputs": [
    {
     "name": "stdout",
     "output_type": "stream",
     "text": [
      "The sides of triangle are:\n",
      "12\n",
      "16\n",
      "20\n",
      "The area of triangle is:  96.0 unit**2\n"
     ]
    }
   ],
   "source": [
    "#5 Write a Python Program(with class concepts) to find the area of the triangle using the below formula.  \n",
    "   #area = (s*(s-a)*(s-b)*(s-c)) ** 0.5  \n",
    "#Function to take the length of the sides of triangle from user should be defined in the parent class and function to calculate the area should be defined in subclass.   \n",
    "\n",
    "  \n",
    "class Sides:\n",
    "    def __init__(self,a,b,c):\n",
    "        self.a=a\n",
    "        self.b=b\n",
    "        self.c=c\n",
    "       \n",
    "class Area(Sides):\n",
    "    def __init__(self,a,b,c):\n",
    "        super().__init__(a,b,c)\n",
    "       \n",
    "\n",
    "        s=(a+b+c)/2\n",
    "        area=(s*(s-a)*(s-b)*(s-c)) ** 0.5\n",
    "        print('The area of triangle is: ',area,'unit**2')\n",
    "\n",
    "    \n",
    "        \n",
    "print('The sides of triangle are:')        \n",
    "triangle=Area(int(input()),int(input()),int(input()))\n",
    "\n",
    "\n"
   ]
  },
  {
   "cell_type": "code",
   "execution_count": null,
   "metadata": {},
   "outputs": [],
   "source": []
  },
  {
   "cell_type": "code",
   "execution_count": 6,
   "metadata": {},
   "outputs": [
    {
     "name": "stdout",
     "output_type": "stream",
     "text": [
      "Enter the words: \n",
      "Amit\n",
      "Hello\n",
      "Picture\n",
      "Style\n",
      "Enter the integer value: 4\n",
      "The list  of words which are longer than integer value are:  4  are : ['Hello', 'Picture', 'Style']\n"
     ]
    }
   ],
   "source": [
    "#6 Write a function filter_long_words() that takes a list of words and an integer n and returns the list of words that are longer than n.   \n",
    "def filter_longwords():\n",
    "    print('Enter the words: ')\n",
    "    list=[input(),input(),input(),input()]\n",
    "    list_longwords=[]\n",
    "    integer=int(input('Enter the integer value: '))\n",
    "    for item in list:\n",
    "        if len(item)>integer:\n",
    "            list_longwords.append(item)\n",
    "    print('The list  of words which are longer than integer value are: ',integer,' are :' ,list_longwords)        \n",
    "filter_longwords()          \n"
   ]
  },
  {
   "cell_type": "code",
   "execution_count": null,
   "metadata": {},
   "outputs": [],
   "source": []
  },
  {
   "cell_type": "code",
   "execution_count": 7,
   "metadata": {},
   "outputs": [
    {
     "name": "stdout",
     "output_type": "stream",
     "text": [
      "Enter the words: \n",
      "permotion\n",
      "digital\n",
      "platform\n",
      "interview\n",
      "The length of each word in list is:  [9, 7, 8, 9]\n"
     ]
    }
   ],
   "source": [
    "#7 Write a Python program using function concept that maps  list of words into a list of integers representing the lengths of the corresponding words\n",
    "\n",
    "def list_map():\n",
    "    print('Enter the words: ')\n",
    "    list=[input(),input(),input(),input()]\n",
    "    list_item_length=[]\n",
    "    for item in list:\n",
    "        length_item =len(item)\n",
    "        list_item_length.append(length_item)\n",
    "    print('The length of each word in list is: ',list_item_length)    \n",
    "list_map()        "
   ]
  },
  {
   "cell_type": "code",
   "execution_count": null,
   "metadata": {},
   "outputs": [],
   "source": []
  },
  {
   "cell_type": "code",
   "execution_count": 8,
   "metadata": {},
   "outputs": [
    {
     "name": "stdout",
     "output_type": "stream",
     "text": [
      "Enter character to check if it is a Vowel or not: m\n",
      "Is the character entered by user is Vowel:  False\n"
     ]
    }
   ],
   "source": [
    "#8 Write a Python function which takes a character (i.e. a string of length 1) and returns True if it is a vowel,False otherwise\n",
    "\n",
    "def character_type(character):\n",
    "    if len(character)==1:\n",
    "        if character=='a' or character=='e' or character=='i' or character=='o' or character=='u':\n",
    "            return True\n",
    "        if character=='A' or character=='E' or character=='I' or character=='O' or character=='U':\n",
    "            return True\n",
    "        else:\n",
    "            return False\n",
    "    else:\n",
    "        print('Please enter single character')\n",
    "character=input('Enter character to check if it is a Vowel or not: ')\n",
    "print('Is the character entered by user is Vowel: ',character_type(character))"
   ]
  },
  {
   "cell_type": "code",
   "execution_count": null,
   "metadata": {},
   "outputs": [],
   "source": []
  }
 ],
 "metadata": {
  "kernelspec": {
   "display_name": "Python 3",
   "language": "python",
   "name": "python3"
  },
  "language_info": {
   "codemirror_mode": {
    "name": "ipython",
    "version": 3
   },
   "file_extension": ".py",
   "mimetype": "text/x-python",
   "name": "python",
   "nbconvert_exporter": "python",
   "pygments_lexer": "ipython3",
   "version": "3.7.6"
  }
 },
 "nbformat": 4,
 "nbformat_minor": 4
}
